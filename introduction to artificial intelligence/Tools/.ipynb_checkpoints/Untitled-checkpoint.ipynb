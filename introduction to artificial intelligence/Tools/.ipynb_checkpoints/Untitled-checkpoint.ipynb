{
 "cells": [
  {
   "cell_type": "code",
   "execution_count": 58,
   "metadata": {},
   "outputs": [
    {
     "ename": "NameError",
     "evalue": "name 'Domains' is not defined",
     "output_type": "error",
     "traceback": [
      "\u001b[0;31m---------------------------------------------------------------------------\u001b[0m",
      "\u001b[0;31mNameError\u001b[0m                                 Traceback (most recent call last)",
      "\u001b[0;32m<ipython-input-58-7a5b729bbe45>\u001b[0m in \u001b[0;36m<module>\u001b[0;34m\u001b[0m\n\u001b[1;32m     10\u001b[0m \u001b[0mDomains\u001b[0m\u001b[0;34m:\u001b[0m \u001b[0mDict\u001b[0m\u001b[0;34m[\u001b[0m\u001b[0mVariable\u001b[0m\u001b[0;34m,\u001b[0m \u001b[0mValues\u001b[0m\u001b[0;34m]\u001b[0m\u001b[0;34m\u001b[0m\u001b[0;34m\u001b[0m\u001b[0m\n\u001b[1;32m     11\u001b[0m \u001b[0;34m\u001b[0m\u001b[0m\n\u001b[0;32m---> 12\u001b[0;31m \u001b[0;32mdef\u001b[0m \u001b[0minit_domains\u001b[0m\u001b[0;34m(\u001b[0m\u001b[0mvars\u001b[0m\u001b[0;34m:\u001b[0m \u001b[0mVariables\u001b[0m\u001b[0;34m,\u001b[0m \u001b[0mvals\u001b[0m\u001b[0;34m:\u001b[0m \u001b[0mValues\u001b[0m\u001b[0;34m)\u001b[0m\u001b[0;34m->\u001b[0m\u001b[0mDomains\u001b[0m\u001b[0;34m:\u001b[0m\u001b[0;34m\u001b[0m\u001b[0;34m\u001b[0m\u001b[0m\n\u001b[0m\u001b[1;32m     13\u001b[0m     \u001b[0;32mpass\u001b[0m\u001b[0;34m\u001b[0m\u001b[0;34m\u001b[0m\u001b[0m\n",
      "\u001b[0;31mNameError\u001b[0m: name 'Domains' is not defined"
     ]
    }
   ],
   "source": [
    "from typing import List, Set, Dict\n",
    "problem = ['a','b','c']\n",
    "vars = set(''.join(problem))\n",
    "n = 4\n",
    "#values = map(lambda x: set(range(n)), vars)\n",
    "#domains = dict(zip(vars, values))\n",
    "Variable= str\n",
    "Variables: List[Variable]\n",
    "Values: Set[int]\n",
    "Domains = Dict[Variable, Values]\n",
    "    \n",
    "def init_domains(vars: Variables, vals: Values)->Domains:\n",
    "    pass"
   ]
  },
  {
   "cell_type": "code",
   "execution_count": 16,
   "metadata": {},
   "outputs": [
    {
     "data": {
      "text/plain": [
       "{'b': {0, 1, 2, 3}, 'c': {0, 1, 2, 3}, 'a': {0, 1, 2, 3}}"
      ]
     },
     "execution_count": 16,
     "metadata": {},
     "output_type": "execute_result"
    }
   ],
   "source": [
    "domains"
   ]
  },
  {
   "cell_type": "code",
   "execution_count": 2,
   "metadata": {},
   "outputs": [],
   "source": [
    "def find_empty(soln: dict)-> bool:\n",
    "    for k,v in soln.items(): \n",
    "        if v is None: return k\n",
    "\n",
    "def check_constraints(var, val, soln):\n",
    "    for k, v in soln.items():\n",
    "        if v is val and k is not var: return False\n",
    "    return True\n",
    "\n",
    "def calculate(problem, soln):\n",
    "    x = list()\n",
    "    for i in problem:\n",
    "        s = int()\n",
    "        p = len(i)-1\n",
    "        for j in i:\n",
    "            s += soln[j]*10**p\n",
    "            p -= 1\n",
    "        x.append(s)\n",
    "    return sum(x[:-1]) == x[-1]\n",
    "\n",
    "def something(soln, problem, values):\n",
    "    if not None in soln.values() and calculate(problem, soln):\n",
    "        print('soln found!')\n",
    "        return soln\n",
    "    #debug\n",
    "    input('No soln yet! proceed??')\n",
    "    #find next\n",
    "    if nxt:= find_empty(soln):    \n",
    "        print(f\"nxt is: {nxt}\")\n",
    "        for i in values:\n",
    "            print('i:', i)\n",
    "            if check_constraints(nxt, i, soln):\n",
    "                soln[nxt] = i\n",
    "                print('soln',soln)\n",
    "                if None in soln.values():\n",
    "                    return something(soln, problem, values)\n",
    "                elif calculate(problem, soln): return soln       \n",
    "    return "
   ]
  },
  {
   "cell_type": "code",
   "execution_count": 3,
   "metadata": {},
   "outputs": [
    {
     "name": "stdout",
     "output_type": "stream",
     "text": [
      "proceed??\n",
      "nxt is: b\n",
      "i: 0\n",
      "soln {'b': 0, 'c': None, 'a': None}\n",
      "proceed??\n",
      "nxt is: c\n",
      "i: 0\n",
      "i: 1\n",
      "soln {'b': 0, 'c': 1, 'a': None}\n",
      "proceed??\n",
      "nxt is: a\n",
      "i: 0\n",
      "i: 1\n",
      "i: 2\n",
      "soln {'b': 0, 'c': 1, 'a': 2}\n",
      "i: 3\n",
      "soln {'b': 0, 'c': 1, 'a': 3}\n"
     ]
    }
   ],
   "source": [
    "something(soln, problem, values)"
   ]
  },
  {
   "cell_type": "code",
   "execution_count": 6,
   "metadata": {},
   "outputs": [
    {
     "name": "stdout",
     "output_type": "stream",
     "text": [
      "7\n"
     ]
    }
   ],
   "source": [
    "a = lambda x: None\n",
    "if a(4): print(4)\n",
    "else: print(7)"
   ]
  }
 ],
 "metadata": {
  "kernelspec": {
   "display_name": "Python 3",
   "language": "python",
   "name": "python3"
  },
  "language_info": {
   "codemirror_mode": {
    "name": "ipython",
    "version": 3
   },
   "file_extension": ".py",
   "mimetype": "text/x-python",
   "name": "python",
   "nbconvert_exporter": "python",
   "pygments_lexer": "ipython3",
   "version": "3.8.3"
  }
 },
 "nbformat": 4,
 "nbformat_minor": 4
}
