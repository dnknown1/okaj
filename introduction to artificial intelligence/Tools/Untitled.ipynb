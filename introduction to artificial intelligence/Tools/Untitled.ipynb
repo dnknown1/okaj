{
 "cells": [
  {
   "cell_type": "code",
   "execution_count": 80,
   "metadata": {},
   "outputs": [],
   "source": [
    "# default settings\n",
    "from typing import List, Set, Dict, Tuple\n",
    "\n",
    "# type defination\n",
    "Variable:    str\n",
    "Variables:   List[Variable]\n",
    "Values:      Set[int]\n",
    "Domains:     Dict[Variable, Values]\n",
    "Assignments: Tuple[Variable, int]\n"
   ]
  },
  {
   "cell_type": "code",
   "execution_count": 81,
   "metadata": {},
   "outputs": [],
   "source": [
    "# generate csp\n",
    "def make_csp(problem: List[str], n: int)-> Tuple[Variables, Domains]:\n",
    "    vars = set(''.join(problem))\n",
    "    values = map(lambda x: set(range(n)), vars)\n",
    "    domains = dict(zip(vars, values))\n",
    "    return vars, domains\n"
   ]
  },
  {
   "cell_type": "code",
   "execution_count": 101,
   "metadata": {},
   "outputs": [],
   "source": [
    "# checks if value is unique to the soln\n",
    "unique = lambda val, soln: not val in soln.values()\n",
    "\n",
    "# checks if a variable is free\n",
    "free = lambda var, soln: not var in soln.keys()\n"
   ]
  },
  {
   "cell_type": "code",
   "execution_count": 114,
   "metadata": {},
   "outputs": [],
   "source": [
    "def calculate(problem, soln):\n",
    "    x = list()\n",
    "    for i in problem:\n",
    "        s = int()\n",
    "        p = len(i)-1\n",
    "        for j in i:\n",
    "            s += soln[j]*10**p\n",
    "            p -= 1\n",
    "        x.append(s)\n",
    "    return sum(x[:-1]) == x[-1]"
   ]
  },
  {
   "cell_type": "code",
   "execution_count": 124,
   "metadata": {},
   "outputs": [],
   "source": [
    "def solve(problem, vars, domains, soln=dict()):\n",
    "    print('soln', soln)\n",
    "    #print(len(soln.keys()), len(vars))\n",
    "    if not vars:\n",
    "        if calculate(problem, soln): return soln\n",
    "        return \n",
    "    var = vars.pop()\n",
    "    #print('poped var', var)\n",
    "    if free(var, soln):\n",
    "        for val in domains[var]:\n",
    "            if unique(val, soln):\n",
    "                soln[var] = val\n",
    "                #print(f'setting {var} to {val} and going forward')\n",
    "                solve(problem, vars, domains, soln)\n",
    "        #print('No posible value yet')\n",
    "        vars.add(var)\n",
    "        soln.pop(var)\n",
    "        return\n",
    "    else: \n",
    "        vars.add(var)\n",
    "        return solve(problem, vars, domains, soln)"
   ]
  },
  {
   "cell_type": "code",
   "execution_count": 125,
   "metadata": {},
   "outputs": [
    {
     "name": "stdout",
     "output_type": "stream",
     "text": [
      "soln {}\n",
      "soln {'b': 0}\n",
      "soln {'b': 0, 'c': 1}\n",
      "soln {'b': 0, 'c': 1, 'a': 2}\n",
      "soln {'b': 0, 'c': 1, 'a': 3}\n",
      "soln {'b': 0, 'c': 2}\n",
      "soln {'b': 0, 'c': 2, 'a': 1}\n",
      "soln {'b': 0, 'c': 2, 'a': 3}\n",
      "soln {'b': 0, 'c': 3}\n",
      "soln {'b': 0, 'c': 3, 'a': 1}\n",
      "soln {'b': 0, 'c': 3, 'a': 2}\n",
      "soln {'b': 1}\n",
      "soln {'b': 1, 'c': 0}\n",
      "soln {'b': 1, 'c': 0, 'a': 2}\n",
      "soln {'b': 1, 'c': 0, 'a': 3}\n",
      "soln {'b': 1, 'c': 2}\n",
      "soln {'b': 1, 'c': 2, 'a': 0}\n",
      "soln {'b': 1, 'c': 2, 'a': 3}\n",
      "soln {'b': 1, 'c': 3}\n",
      "soln {'b': 1, 'c': 3, 'a': 0}\n",
      "soln {'b': 1, 'c': 3, 'a': 2}\n",
      "soln {'b': 2}\n",
      "soln {'b': 2, 'c': 0}\n",
      "soln {'b': 2, 'c': 0, 'a': 1}\n",
      "soln {'b': 2, 'c': 0, 'a': 3}\n",
      "soln {'b': 2, 'c': 1}\n",
      "soln {'b': 2, 'c': 1, 'a': 0}\n",
      "soln {'b': 2, 'c': 1, 'a': 3}\n",
      "soln {'b': 2, 'c': 3}\n",
      "soln {'b': 2, 'c': 3, 'a': 0}\n",
      "soln {'b': 2, 'c': 3, 'a': 1}\n",
      "soln {'b': 3}\n",
      "soln {'b': 3, 'c': 0}\n",
      "soln {'b': 3, 'c': 0, 'a': 1}\n",
      "soln {'b': 3, 'c': 0, 'a': 2}\n",
      "soln {'b': 3, 'c': 1}\n",
      "soln {'b': 3, 'c': 1, 'a': 0}\n",
      "soln {'b': 3, 'c': 1, 'a': 2}\n",
      "soln {'b': 3, 'c': 2}\n",
      "soln {'b': 3, 'c': 2, 'a': 0}\n",
      "soln {'b': 3, 'c': 2, 'a': 1}\n"
     ]
    }
   ],
   "source": [
    "# driver\n",
    "problem: ['a','b','c']\n",
    "variables, domains = make_csp(problem, 4)\n",
    "solve(problem, variables, domains)"
   ]
  },
  {
   "cell_type": "code",
   "execution_count": 2,
   "metadata": {},
   "outputs": [],
   "source": [
    "def find_empty(soln: dict)-> bool:\n",
    "    for k,v in soln.items(): \n",
    "        if v is None: return k\n",
    "\n",
    "def check_constraints(var, val, soln):\n",
    "    for k, v in soln.items():\n",
    "        if v is val and k is not var: return False\n",
    "    return True\n",
    "\n",
    "\n",
    "\n",
    "def something(soln, problem, values):\n",
    "    if not None in soln.values() and calculate(problem, soln):\n",
    "        print('soln found!')\n",
    "        return soln\n",
    "    #debug\n",
    "    input('No soln yet! proceed??')\n",
    "    #find next\n",
    "    if nxt:= find_empty(soln):    \n",
    "        print(f\"nxt is: {nxt}\")\n",
    "        for i in values:\n",
    "            print('i:', i)\n",
    "            if check_constraints(nxt, i, soln):\n",
    "                soln[nxt] = i\n",
    "                print('soln',soln)\n",
    "                if None in soln.values():\n",
    "                    return something(soln, problem, values)\n",
    "                elif calculate(problem, soln): return soln       \n",
    "    return "
   ]
  },
  {
   "cell_type": "code",
   "execution_count": 3,
   "metadata": {},
   "outputs": [
    {
     "name": "stdout",
     "output_type": "stream",
     "text": [
      "proceed??\n",
      "nxt is: b\n",
      "i: 0\n",
      "soln {'b': 0, 'c': None, 'a': None}\n",
      "proceed??\n",
      "nxt is: c\n",
      "i: 0\n",
      "i: 1\n",
      "soln {'b': 0, 'c': 1, 'a': None}\n",
      "proceed??\n",
      "nxt is: a\n",
      "i: 0\n",
      "i: 1\n",
      "i: 2\n",
      "soln {'b': 0, 'c': 1, 'a': 2}\n",
      "i: 3\n",
      "soln {'b': 0, 'c': 1, 'a': 3}\n"
     ]
    }
   ],
   "source": [
    "something(soln, problem, values)"
   ]
  },
  {
   "cell_type": "code",
   "execution_count": 6,
   "metadata": {},
   "outputs": [
    {
     "name": "stdout",
     "output_type": "stream",
     "text": [
      "7\n"
     ]
    }
   ],
   "source": [
    "a = lambda x: None\n",
    "if a(4): print(4)\n",
    "else: print(7)"
   ]
  }
 ],
 "metadata": {
  "kernelspec": {
   "display_name": "Python 3",
   "language": "python",
   "name": "python3"
  },
  "language_info": {
   "codemirror_mode": {
    "name": "ipython",
    "version": 3
   },
   "file_extension": ".py",
   "mimetype": "text/x-python",
   "name": "python",
   "nbconvert_exporter": "python",
   "pygments_lexer": "ipython3",
   "version": "3.8.3"
  }
 },
 "nbformat": 4,
 "nbformat_minor": 4
}
