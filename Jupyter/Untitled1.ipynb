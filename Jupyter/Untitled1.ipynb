{
 "cells": [
  {
   "cell_type": "code",
   "execution_count": 4,
   "metadata": {
    "scrolled": true
   },
   "outputs": [],
   "source": [
    "class Astack:\n",
    "    def __init__(self): self.container = list()\n",
    "    def put(self, data): self.container.append(data)\n",
    "    def pull(self): return self.container.pop()\n",
    "    def __contains__(self, key): return key in self.container\n",
    "    def empty(self): return not len(self.container)\n",
    "\n",
    "class Aqueue(Astack):\n",
    "    def __init__(self): super().__init__()\n",
    "    def pull(self): return self.container.pop(0)\n",
    "\n",
    "# finds next reachable state\n",
    "def percieve(state_space, state, actions, validate):\n",
    "    maps = map(lambda x: x(state), actions)\n",
    "    return list(filter(lambda x: validate(state_space, x), maps))\n",
    "\n",
    "# performs movement\n",
    "def transition(nodes, container, memo):\n",
    "        # visit Next neighbour\n",
    "        if not nodes: return container.pull()\n",
    "        # add neighbour\n",
    "        if not any(memo) is (x:= nodes.pop()): container.put(x)\n",
    "        return transition(nodes, container, memo)\n"
   ]
  },
  {
   "cell_type": "code",
   "execution_count": 6,
   "metadata": {},
   "outputs": [],
   "source": [
    "problem_matrix = [\n",
    "    [0, 0, 0, 0],\n",
    "    [1, 0, 1, 1],\n",
    "    [1, 0, 1, 1],\n",
    "    [1, 1, 1, 1]\n",
    "]\n",
    "actions = [\n",
    "        lambda e: (e[0], e[1]-1),\n",
    "        lambda e: (e[0], e[1]+1),\n",
    "        lambda e: (e[0]-1, e[1]),\n",
    "        lambda e: (e[0]+1, e[1])\n",
    "]\n",
    "def reachable(state_space, state):\n",
    "    try:\n",
    "        v = 'state_space'+'[{}]'*len(state)\n",
    "        v =  eval('\\'{}\\'.format(*state)'.format(v))\n",
    "        return not eval(v)\n",
    "    except: return False\n",
    "\n",
    "start = (0,0)\n",
    "goal = (2,1)\n",
    "container = Astack()"
   ]
  },
  {
   "cell_type": "code",
   "execution_count": null,
   "metadata": {},
   "outputs": [],
   "source": [
    "# explores a path \n",
    "def explore(state_space, state, goal, actions, validate, container, memo=[]):\n",
    "    print('At state', state)\n",
    "    if state == goal: \n",
    "        return state\n",
    "    #get neighbours\n",
    "    nodes = percieve(state_space, state, actions, validate)\n",
    "    #visited current state\n",
    "    memo.append(state)\n",
    "    # Next state\n",
    "    state = transition(nodes, container, memo)\n",
    "    #reEvaluate\n",
    "    input(f'moved from {memo[0]} to {state}')\n",
    "    return explore(state_space, state, goal, actions, validate, container, memo)"
   ]
  }
 ],
 "metadata": {
  "kernelspec": {
   "display_name": "Python 3",
   "language": "python",
   "name": "python3"
  },
  "language_info": {
   "codemirror_mode": {
    "name": "ipython",
    "version": 3
   },
   "file_extension": ".py",
   "mimetype": "text/x-python",
   "name": "python",
   "nbconvert_exporter": "python",
   "pygments_lexer": "ipython3",
   "version": "3.8.3"
  }
 },
 "nbformat": 4,
 "nbformat_minor": 4
}
